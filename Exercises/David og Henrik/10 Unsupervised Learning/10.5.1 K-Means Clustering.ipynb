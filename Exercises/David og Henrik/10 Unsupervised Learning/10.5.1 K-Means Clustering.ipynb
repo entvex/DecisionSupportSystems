{
 "cells": [
  {
   "cell_type": "markdown",
   "metadata": {},
   "source": [
    "##10.5 Lab 2: Clustering   10.5.1 K-Means Clustering"
   ]
  },
  {
   "cell_type": "code",
   "execution_count": 1,
   "metadata": {},
   "outputs": [],
   "source": [
    "# conventional way to import pandas\n",
    "import pandas as pd\n",
    "# conventional way to import seaborn\n",
    "import seaborn as sns\n",
    "\n",
    "from sklearn.cluster import KMeans\n",
    "import numpy as np\n",
    "import matplotlib.pyplot as plt"
   ]
  },
  {
   "cell_type": "markdown",
   "metadata": {},
   "source": [
    "Next we will set the random seed and generate the data."
   ]
  },
  {
   "cell_type": "code",
   "execution_count": 2,
   "metadata": {},
   "outputs": [
    {
     "data": {
      "text/plain": [
       "(25, 2)"
      ]
     },
     "execution_count": 2,
     "metadata": {},
     "output_type": "execute_result"
    }
   ],
   "source": [
    "np.random.seed(0)\n",
    "X = np.random.standard_normal(size=(25,2))\n",
    "\n",
    "X.shape"
   ]
  },
  {
   "cell_type": "markdown",
   "metadata": {},
   "source": [
    "We will change our data a little so the first columne will have a mean of +3 and the secound is -4"
   ]
  },
  {
   "cell_type": "code",
   "execution_count": 3,
   "metadata": {},
   "outputs": [],
   "source": [
    "for row in X:\n",
    "    row[0] = row[0]+3\n",
    "    row[1] = row[1]-4"
   ]
  },
  {
   "cell_type": "markdown",
   "metadata": {},
   "source": [
    "Now we will use the k-means algo. We will do two clusters and make it do 20 iterations. We display the labels, cluster_centers and the sum of distances of samples to their closest cluster center also called inertia."
   ]
  },
  {
   "cell_type": "code",
   "execution_count": 4,
   "metadata": {},
   "outputs": [
    {
     "name": "stdout",
     "output_type": "stream",
     "text": [
      "[0 0 0 0 0 0 0 0 0 0 1 0 0 0 0 0 1 1 0 1 1 1 1 1 1]\n",
      "[[ 3.91945474 -3.78502692]\n",
      " [ 1.85475744 -4.09063316]]\n",
      "38.18401647381171\n"
     ]
    }
   ],
   "source": [
    "kmeans2 = KMeans(n_clusters=2, random_state=0,n_init=20).fit(X)\n",
    "print( kmeans2.labels_ )\n",
    "print( kmeans2.cluster_centers_ )\n",
    "print( kmeans2.inertia_ )"
   ]
  },
  {
   "cell_type": "markdown",
   "metadata": {},
   "source": [
    "Now we will run the algo again with k=3 and that means find 4 clusters."
   ]
  },
  {
   "cell_type": "code",
   "execution_count": 5,
   "metadata": {},
   "outputs": [
    {
     "name": "stdout",
     "output_type": "stream",
     "text": [
      "[0 2 0 0 1 2 0 0 0 0 1 0 0 1 2 1 1 1 2 1 1 1 1 1 1]\n",
      "[[ 4.19199303 -4.39210147]\n",
      " [ 2.149192   -4.01784344]\n",
      " [ 3.97146286 -2.40827367]]\n",
      "27.556976178858864\n"
     ]
    }
   ],
   "source": [
    "kmeans3 = KMeans(n_clusters=3, random_state=0,n_init=20).fit(X)\n",
    "print( kmeans3.labels_ )\n",
    "print( kmeans3.cluster_centers_ )\n",
    "print( kmeans3.inertia_ )"
   ]
  },
  {
   "cell_type": "markdown",
   "metadata": {},
   "source": [
    "Next we show the two plotted"
   ]
  },
  {
   "cell_type": "code",
   "execution_count": 6,
   "metadata": {},
   "outputs": [
    {
     "data": {
      "image/png": "[encoded data removed]",
      "text/plain": [
       "<matplotlib.figure.Figure at 0x1e3a9aa6080>"
      ]
     },
     "metadata": {},
     "output_type": "display_data"
    }
   ],
   "source": [
    "fig, (ax1, ax2) = plt.subplots(1,2, figsize=(14,5))\n",
    "\n",
    "ax1.scatter(X[:,0], X[:,1], s=40, c=kmeans2.labels_, cmap=plt.cm.prism) \n",
    "ax1.set_title('K-Means Clustering Results with K=2 with 20 iterations')\n",
    "ax1.scatter(kmeans2.cluster_centers_[:,0], kmeans2.cluster_centers_[:,1], marker='+', s=100, c='k', linewidth=2)\n",
    "\n",
    "ax2.scatter(X[:,0], X[:,1], s=40, c=kmeans3.labels_, cmap=plt.cm.prism) \n",
    "ax2.set_title('K-Means Clustering Results with K=3 with 20 iterations')\n",
    "ax2.scatter(kmeans3.cluster_centers_[:,0], kmeans3.cluster_centers_[:,1], marker='+', s=100, c='k', linewidth=2);\n",
    "\n",
    "plt.show()"
   ]
  }
 ],
 "metadata": {
  "kernelspec": {
   "display_name": "Python 3",
   "language": "python",
   "name": "python3"
  },
  "language_info": {
   "codemirror_mode": {
    "name": "ipython",
    "version": 3
   },
   "file_extension": ".py",
   "mimetype": "text/x-python",
   "name": "python",
   "nbconvert_exporter": "python",
   "pygments_lexer": "ipython3",
   "version": "3.6.4"
  }
 },
 "nbformat": 4,
 "nbformat_minor": 2
}
